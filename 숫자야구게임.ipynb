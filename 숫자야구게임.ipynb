{
 "cells": [
  {
   "cell_type": "code",
   "execution_count": 1,
   "id": "0c3a9daa",
   "metadata": {},
   "outputs": [],
   "source": [
    "import random\n",
    "import numpy as np"
   ]
  },
  {
   "cell_type": "code",
   "execution_count": 5,
   "id": "62b97437",
   "metadata": {},
   "outputs": [
    {
     "data": {
      "text/plain": [
       "[2, 3, 1, 7]"
      ]
     },
     "execution_count": 5,
     "metadata": {},
     "output_type": "execute_result"
    }
   ],
   "source": [
    "number = [0,1,2,3,4,5,6,7,8,9]\n",
    "answer_list = random.sample(number,4)"
   ]
  },
  {
   "cell_type": "code",
   "execution_count": 6,
   "id": "bd19ed94",
   "metadata": {},
   "outputs": [
    {
     "data": {
      "text/plain": [
       "'2317'"
      ]
     },
     "execution_count": 6,
     "metadata": {},
     "output_type": "execute_result"
    }
   ],
   "source": [
    "answer = str(answer_list[0])+str(answer_list[1])+str(answer_list[2])+str(answer_list[3])\n",
    "answer"
   ]
  },
  {
   "cell_type": "code",
   "execution_count": 7,
   "id": "a94256c8",
   "metadata": {},
   "outputs": [
    {
     "data": {
      "text/plain": [
       "'2'"
      ]
     },
     "execution_count": 7,
     "metadata": {},
     "output_type": "execute_result"
    }
   ],
   "source": [
    "answer[0]"
   ]
  },
  {
   "cell_type": "code",
   "execution_count": 24,
   "id": "6197746b",
   "metadata": {},
   "outputs": [
    {
     "name": "stdout",
     "output_type": "stream",
     "text": [
      "2156\n"
     ]
    }
   ],
   "source": [
    "user=input()"
   ]
  },
  {
   "cell_type": "code",
   "execution_count": 25,
   "id": "8e255b79",
   "metadata": {},
   "outputs": [
    {
     "data": {
      "text/plain": [
       "'2156'"
      ]
     },
     "execution_count": 25,
     "metadata": {},
     "output_type": "execute_result"
    }
   ],
   "source": [
    "user"
   ]
  },
  {
   "cell_type": "code",
   "execution_count": 26,
   "id": "546e2d17",
   "metadata": {},
   "outputs": [],
   "source": [
    "strike = {}\n",
    "for i in range(4):\n",
    "    if answer[i]==user[i]:\n",
    "        strike[answer[i]]=\"strike\"\n",
    "\n",
    "ball = {}\n",
    "for num in answer:\n",
    "    for i in range(4):\n",
    "        if user[i]==num:\n",
    "            ball[num]=\"ball\""
   ]
  },
  {
   "cell_type": "code",
   "execution_count": 27,
   "id": "3d421826",
   "metadata": {},
   "outputs": [
    {
     "name": "stdout",
     "output_type": "stream",
     "text": [
      "{'2': 'strike'}\n"
     ]
    }
   ],
   "source": [
    "print(strike)"
   ]
  },
  {
   "cell_type": "code",
   "execution_count": 28,
   "id": "ac6129eb",
   "metadata": {},
   "outputs": [
    {
     "name": "stdout",
     "output_type": "stream",
     "text": [
      "{'2': 'ball', '1': 'ball'}\n"
     ]
    }
   ],
   "source": [
    "print(ball)"
   ]
  },
  {
   "cell_type": "code",
   "execution_count": 36,
   "id": "305d472f",
   "metadata": {},
   "outputs": [
    {
     "data": {
      "text/plain": [
       "['2']"
      ]
     },
     "execution_count": 36,
     "metadata": {},
     "output_type": "execute_result"
    }
   ],
   "source": [
    "list(strike.keys())"
   ]
  },
  {
   "cell_type": "code",
   "execution_count": 37,
   "id": "927985f6",
   "metadata": {},
   "outputs": [
    {
     "data": {
      "text/plain": [
       "{'1': 'ball'}"
      ]
     },
     "execution_count": 37,
     "metadata": {},
     "output_type": "execute_result"
    }
   ],
   "source": [
    "for i in list(strike.keys()):\n",
    "    del(ball[i])"
   ]
  },
  {
   "cell_type": "code",
   "execution_count": 40,
   "id": "2c3138c4",
   "metadata": {},
   "outputs": [],
   "source": [
    "strike_num = len(strike)"
   ]
  },
  {
   "cell_type": "code",
   "execution_count": 41,
   "id": "db6c827e",
   "metadata": {},
   "outputs": [],
   "source": [
    "ball_num = len(ball)"
   ]
  },
  {
   "cell_type": "code",
   "execution_count": 42,
   "id": "a32bb494",
   "metadata": {},
   "outputs": [
    {
     "name": "stdout",
     "output_type": "stream",
     "text": [
      "1strike   1ball\n"
     ]
    }
   ],
   "source": [
    "print(str(strike_num)+\"strike\", \" \", str(ball_num)+\"ball\")"
   ]
  },
  {
   "cell_type": "code",
   "execution_count": 63,
   "id": "320792ca",
   "metadata": {},
   "outputs": [
    {
     "name": "stdout",
     "output_type": "stream",
     "text": [
      "0395\n"
     ]
    }
   ],
   "source": [
    "import random\n",
    "import numpy as np\n",
    "\n",
    "number = [0,1,2,3,4,5,6,7,8,9]\n",
    "answer_list = random.sample(number,4)\n",
    "answer = str(answer_list[0])+str(answer_list[1])+str(answer_list[2])+str(answer_list[3])\n",
    "print(answer)\n",
    "user_list = []"
   ]
  },
  {
   "cell_type": "code",
   "execution_count": 65,
   "id": "af82ef51",
   "metadata": {},
   "outputs": [
    {
     "name": "stdout",
     "output_type": "stream",
     "text": [
      "4567\n",
      "0strike 1ball\n",
      "['1234/0strike 1ball', '4567/0strike 1ball']\n"
     ]
    }
   ],
   "source": [
    "user=input()\n",
    "\n",
    "strike = {}\n",
    "for i in range(4):\n",
    "    if answer[i]==user[i]:\n",
    "        strike[answer[i]]=\"strike\"\n",
    "\n",
    "ball = {}\n",
    "for num in answer:\n",
    "    for i in range(4):\n",
    "        if user[i]==num:\n",
    "            ball[num]=\"ball\"\n",
    "            \n",
    "for i in list(strike.keys()):\n",
    "    del(ball[i])\n",
    "    \n",
    "strike_num = len(strike)\n",
    "ball_num = len(ball)\n",
    "\n",
    "if (strike_num==0)&(ball_num==0):\n",
    "    show = \"out\"\n",
    "else:\n",
    "    show = str(strike_num)+\"strike\"+\" \"+str(ball_num)+\"ball\"\n",
    "\n",
    "user_list.append(user+\"/\"+show)\n",
    "\n",
    "print(show)\n",
    "print(user_list)"
   ]
  },
  {
   "cell_type": "code",
   "execution_count": null,
   "id": "fa333a0c",
   "metadata": {},
   "outputs": [],
   "source": [
    "user_list = user_list.append(user)"
   ]
  }
 ],
 "metadata": {
  "kernelspec": {
   "display_name": "Python 3 (ipykernel)",
   "language": "python",
   "name": "python3"
  },
  "language_info": {
   "codemirror_mode": {
    "name": "ipython",
    "version": 3
   },
   "file_extension": ".py",
   "mimetype": "text/x-python",
   "name": "python",
   "nbconvert_exporter": "python",
   "pygments_lexer": "ipython3",
   "version": "3.9.12"
  }
 },
 "nbformat": 4,
 "nbformat_minor": 5
}
